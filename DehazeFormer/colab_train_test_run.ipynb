{
 "cells": [
  {
   "cell_type": "code",
   "execution_count": null,
   "metadata": {},
   "outputs": [],
   "source": [
    "!git clone https://github.com/Mustafa-Ashfaq81/DL-Project.git"
   ]
  },
  {
   "cell_type": "code",
   "execution_count": null,
   "metadata": {},
   "outputs": [],
   "source": [
    "%cd DL-Project/DehazeFormer\n",
    "!pip install pytorch torchvision torchaudio cudatoolkit\n",
    "!pip install -r requirements.txt"
   ]
  },
  {
   "cell_type": "code",
   "execution_count": null,
   "metadata": {},
   "outputs": [],
   "source": [
    "import torch\n",
    "torch.cuda.empty_cache()"
   ]
  },
  {
   "cell_type": "code",
   "execution_count": null,
   "metadata": {},
   "outputs": [],
   "source": [
    "import time\n",
    "start = time.time()\n",
    "!python train.py --model dehazeformer-t --dataset RESIDE-OUT --exp outdoor\n",
    "end = time.time()\n",
    "\n",
    "runtime_seconds = end - start\n",
    "runtime_minutes = int(runtime_seconds // 60)\n",
    "runtime_seconds %= 60\n",
    "print('-' * 100)\n",
    "print(\"Runtime of the algorithm is {} minutes and {} seconds\".format(runtime_minutes, round(runtime_seconds, 3)))"
   ]
  },
  {
   "cell_type": "code",
   "execution_count": null,
   "metadata": {},
   "outputs": [],
   "source": [
    "!python test.py --model dehazeformer-t --dataset RESIDE-OUT --exp outdoor"
   ]
  }
 ],
 "metadata": {
  "language_info": {
   "name": "python"
  }
 },
 "nbformat": 4,
 "nbformat_minor": 2
}
