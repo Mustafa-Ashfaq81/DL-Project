{
  "nbformat": 4,
  "nbformat_minor": 0,
  "metadata": {
    "colab": {
      "provenance": [],
      "gpuType": "T4"
    },
    "kernelspec": {
      "name": "python3",
      "display_name": "Python 3"
    },
    "language_info": {
      "name": "python"
    },
    "accelerator": "GPU"
  },
  "cells": [
    {
      "cell_type": "code",
      "source": [
        "import torch\n"
      ],
      "metadata": {
        "id": "hpsocJEYy2gw"
      },
      "execution_count": 17,
      "outputs": []
    },
    {
      "cell_type": "code",
      "execution_count": 18,
      "metadata": {
        "colab": {
          "base_uri": "https://localhost:8080/"
        },
        "id": "1nSRhaaZn2d7",
        "outputId": "492ec253-5b6b-4920-bbbf-d94ab8b96e8f"
      },
      "outputs": [
        {
          "output_type": "stream",
          "name": "stdout",
          "text": [
            "Collecting git+https://github.com/facebookresearch/segment-anything.git\n",
            "  Cloning https://github.com/facebookresearch/segment-anything.git to /tmp/pip-req-build-2l42qeq1\n",
            "  Running command git clone --filter=blob:none --quiet https://github.com/facebookresearch/segment-anything.git /tmp/pip-req-build-2l42qeq1\n",
            "  Resolved https://github.com/facebookresearch/segment-anything.git to commit 6fdee8f2727f4506cfbbe553e23b895e27956588\n",
            "  Preparing metadata (setup.py) ... \u001b[?25l\u001b[?25hdone\n"
          ]
        }
      ],
      "source": [
        "!pip install 'git+https://github.com/facebookresearch/segment-anything.git'\n",
        "!pip install -q roboflow supervision wget\n",
        "!wget -q 'https://dl.fbaipublicfiles.com/segment_anything/sam_vit_h_4b8939.pth'\n"
      ]
    },
    {
      "cell_type": "code",
      "source": [
        "# import torch\n",
        "from segment_anything import sam_model_registry\n",
        "import os\n",
        "HOME = os.getcwd()\n",
        "print(\"HOME:\", HOME)\n",
        "\n",
        "!mkdir -p {HOME}/weights\n",
        "!wget -q https://dl.fbaipublicfiles.com/segment_anything/sam_vit_h_4b8939.pth -P {HOME}/weights\n",
        "\n",
        "CHECKPOINT_PATH = os.path.join(HOME, \"weights\", \"sam_vit_h_4b8939.pth\")\n",
        "print(CHECKPOINT_PATH, \"; exist:\", os.path.isfile(CHECKPOINT_PATH))\n",
        "\n",
        "#apni images honi chaie ab"
      ],
      "metadata": {
        "colab": {
          "base_uri": "https://localhost:8080/"
        },
        "id": "0LqONfuBqlFJ",
        "outputId": "f04f988e-a39b-44c5-dd11-c986345f8025"
      },
      "execution_count": 19,
      "outputs": [
        {
          "output_type": "stream",
          "name": "stdout",
          "text": [
            "HOME: /content\n",
            "/content/weights/sam_vit_h_4b8939.pth ; exist: True\n"
          ]
        }
      ]
    },
    {
      "cell_type": "code",
      "source": [
        "DEVICE = torch.device('cuda:0' if torch.cuda.is_available() else 'cpu')\n",
        "MODEL_TYPE = \"vit_h\""
      ],
      "metadata": {
        "id": "i_KwGucOoQJH"
      },
      "execution_count": 20,
      "outputs": []
    },
    {
      "cell_type": "code",
      "source": [
        "from segment_anything import SamAutomaticMaskGenerator, SamPredictor\n",
        "\n",
        "sam = sam_model_registry[MODEL_TYPE](checkpoint=CHECKPOINT_PATH).to(device=DEVICE)\n",
        "\n",
        "mask_generator = SamAutomaticMaskGenerator(sam)"
      ],
      "metadata": {
        "id": "a5ZEnLYspi7p"
      },
      "execution_count": 21,
      "outputs": []
    },
    {
      "cell_type": "code",
      "source": [
        "from google.colab import drive\n",
        "drive.mount('/content/drive')\n",
        "# IMAGE_PATH = '/content/drive/My Drive/imgs/1981.png'\n"
      ],
      "metadata": {
        "id": "LkK42ihUtF_g",
        "colab": {
          "base_uri": "https://localhost:8080/"
        },
        "outputId": "3d446664-5977-405e-914c-242846b9969a"
      },
      "execution_count": 22,
      "outputs": [
        {
          "output_type": "stream",
          "name": "stdout",
          "text": [
            "Drive already mounted at /content/drive; to attempt to forcibly remount, call drive.mount(\"/content/drive\", force_remount=True).\n"
          ]
        }
      ]
    },
    {
      "cell_type": "code",
      "source": [
        "import cv2\n",
        "import supervision as sv\n",
        "from google.colab import drive\n"
      ],
      "metadata": {
        "id": "sPuKJt9wtI8R"
      },
      "execution_count": 23,
      "outputs": []
    },
    {
      "cell_type": "code",
      "source": [
        "# Define paths\n",
        "IMG_FOLDER = '/content/drive/My Drive/imgs_indoor_our/'\n",
        "RESULT_FOLDER = '/content/drive/My Drive/new_segmented_imgs_indoor_our/'\n",
        "\n",
        "# Create the result folder if it doesn't exist\n",
        "os.makedirs(RESULT_FOLDER, exist_ok=True)\n",
        "\n",
        "# Process each image in the imgs folder\n",
        "for img_file in os.listdir(IMG_FOLDER):\n",
        "    if img_file.endswith('.png') or img_file.endswith('.jpg'):\n",
        "        # Load image\n",
        "        image_bgr = cv2.imread(os.path.join(IMG_FOLDER, img_file))\n",
        "        image_rgb = cv2.cvtColor(image_bgr, cv2.COLOR_BGR2RGB)\n",
        "\n",
        "        # Generate mask\n",
        "        sam_result = mask_generator.generate(image_rgb)\n",
        "\n",
        "        # Annotate mask\n",
        "        mask_annotator = sv.MaskAnnotator(color_lookup=sv.ColorLookup.INDEX)\n",
        "        detections = sv.Detections.from_sam(sam_result=sam_result)\n",
        "        annotated_image = mask_annotator.annotate(scene=image_bgr.copy(), detections=detections)\n",
        "\n",
        "        # Save annotated image\n",
        "        result_file = os.path.join(RESULT_FOLDER, img_file)\n",
        "        cv2.imwrite(result_file, annotated_image)\n",
        "\n",
        "        print(f\"Processed and saved: {img_file}\")\n",
        "\n",
        "print(\"All images processed and saved successfully.\")"
      ],
      "metadata": {
        "colab": {
          "base_uri": "https://localhost:8080/"
        },
        "id": "dXiOZlkT2Yt_",
        "outputId": "ee4809e5-f51e-4205-a943-e9c53451f7b4"
      },
      "execution_count": 24,
      "outputs": [
        {
          "output_type": "stream",
          "name": "stdout",
          "text": [
            "Processed and saved: 1402_1.png\n",
            "Processed and saved: 1401_9.png\n",
            "Processed and saved: 1401_8.png\n",
            "Processed and saved: 1401_7.png\n",
            "Processed and saved: 1401_5.png\n",
            "Processed and saved: 1401_6.png\n",
            "Processed and saved: 1401_4.png\n",
            "Processed and saved: 1401_3.png\n",
            "Processed and saved: 1401_2.png\n",
            "Processed and saved: 1401_10.png\n",
            "Processed and saved: 1401_1.png\n",
            "Processed and saved: 1400_9.png\n",
            "Processed and saved: 1400_2.png\n",
            "Processed and saved: 1400_4.png\n",
            "Processed and saved: 1400_5.png\n",
            "Processed and saved: 1400_3.png\n",
            "Processed and saved: 1400_10.png\n",
            "Processed and saved: 1400_7.png\n",
            "Processed and saved: 1400_6.png\n",
            "Processed and saved: 1400_8.png\n",
            "Processed and saved: 1400_1.png\n",
            "Processed and saved: 1407_1.png\n",
            "Processed and saved: 1406_9.png\n",
            "Processed and saved: 1406_8.png\n",
            "Processed and saved: 1406_5.png\n",
            "Processed and saved: 1406_6.png\n",
            "Processed and saved: 1406_7.png\n",
            "Processed and saved: 1406_4.png\n",
            "Processed and saved: 1406_2.png\n",
            "Processed and saved: 1406_3.png\n",
            "Processed and saved: 1406_10.png\n",
            "Processed and saved: 1406_1.png\n",
            "Processed and saved: 1403_5.png\n",
            "Processed and saved: 1403_8.png\n",
            "Processed and saved: 1403_6.png\n",
            "Processed and saved: 1405_9.png\n",
            "Processed and saved: 1404_6.png\n",
            "Processed and saved: 1404_9.png\n",
            "Processed and saved: 1404_5.png\n",
            "Processed and saved: 1404_7.png\n",
            "Processed and saved: 1404_4.png\n",
            "Processed and saved: 1404_3.png\n",
            "Processed and saved: 1404_10.png\n",
            "Processed and saved: 1404_2.png\n",
            "Processed and saved: 1404_1.png\n",
            "Processed and saved: 1405_1.png\n",
            "Processed and saved: 1403_7.png\n",
            "Processed and saved: 1403_2.png\n",
            "Processed and saved: 1403_3.png\n",
            "Processed and saved: 1403_4.png\n",
            "Processed and saved: 1403_10.png\n",
            "Processed and saved: 1405_3.png\n",
            "Processed and saved: 1405_2.png\n",
            "Processed and saved: 1405_6.png\n",
            "Processed and saved: 1405_4.png\n",
            "Processed and saved: 1405_10.png\n",
            "Processed and saved: 1403_9.png\n",
            "Processed and saved: 1404_8.png\n",
            "Processed and saved: 1405_8.png\n",
            "Processed and saved: 1405_7.png\n",
            "Processed and saved: 1405_5.png\n",
            "Processed and saved: 1403_1.png\n",
            "Processed and saved: 1402_10.png\n",
            "Processed and saved: 1402_2.png\n",
            "Processed and saved: 1402_4.png\n",
            "Processed and saved: 1402_3.png\n",
            "Processed and saved: 1402_9.png\n",
            "Processed and saved: 1402_8.png\n",
            "Processed and saved: 1402_6.png\n",
            "Processed and saved: 1402_7.png\n",
            "Processed and saved: 1402_5.png\n",
            "Processed and saved: 1407_9.png\n",
            "Processed and saved: 1407_5.png\n",
            "Processed and saved: 1407_4.png\n",
            "Processed and saved: 1407_6.png\n",
            "Processed and saved: 1407_2.png\n",
            "Processed and saved: 1407_3.png\n",
            "Processed and saved: 1407_10.png\n",
            "Processed and saved: 1409_9.png\n",
            "Processed and saved: 1409_8.png\n",
            "Processed and saved: 1409_6.png\n",
            "Processed and saved: 1409_7.png\n",
            "Processed and saved: 1409_5.png\n",
            "Processed and saved: 1409_4.png\n",
            "Processed and saved: 1409_2.png\n",
            "Processed and saved: 1409_3.png\n",
            "Processed and saved: 1409_10.png\n",
            "Processed and saved: 1409_1.png\n",
            "Processed and saved: 1408_9.png\n",
            "Processed and saved: 1408_8.png\n",
            "Processed and saved: 1408_7.png\n",
            "Processed and saved: 1408_6.png\n",
            "Processed and saved: 1408_1.png\n",
            "Processed and saved: 1408_5.png\n",
            "Processed and saved: 1408_4.png\n",
            "Processed and saved: 1408_3.png\n",
            "Processed and saved: 1408_2.png\n",
            "Processed and saved: 1408_10.png\n",
            "Processed and saved: 1407_7.png\n",
            "Processed and saved: 1407_8.png\n",
            "All images processed and saved successfully.\n"
          ]
        }
      ]
    }
  ]
}